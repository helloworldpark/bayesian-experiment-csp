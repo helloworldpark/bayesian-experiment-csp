{
 "cells": [
  {
   "cell_type": "code",
   "execution_count": 24,
   "metadata": {
    "collapsed": false
   },
   "outputs": [],
   "source": [
    "# %load diffsolver.py\n",
    "import numpy as np\n",
    "import matplotlib.pyplot as plot\n",
    "\n",
    "\n",
    "class OdeTime:\n",
    "    \n",
    "    def __init__(self, t_from, t_to, t_intervals):\n",
    "        self.t_from = t_from\n",
    "        self.t_to = t_to\n",
    "        self.t_intervals = t_intervals\n",
    "        self.dt = (t_to - t_from) / float(t_intervals)\n",
    "\n",
    "    def time(self, i):\n",
    "        return self.t_from + self.dt * float(i)\n",
    "\n",
    "\n",
    "class OdeInput:\n",
    "    \n",
    "    #input\n",
    "    #    time: odeTime\n",
    "    #    initialValues: numpy matrix of dimension 1*n\n",
    "    \n",
    "    def __init__(self, time, initial_values):\n",
    "        self.time = time\n",
    "        self.initial_values = initial_values\n",
    "    \n",
    "    def length(self):\n",
    "        return self.time.t_intervals+1\n",
    "    \n",
    "    def dimension(self):\n",
    "        return self.initial_values.shape[0]\n",
    "\n",
    "\n",
    "class OdeOutput:\n",
    "    \n",
    "    def __init__(self, ode_input):\n",
    "        self.ode_input = ode_input\n",
    "        self.results = np.zeros((ode_input.length(), ode_input.dimension()))\n",
    "        self.times = np.zeros((ode_input.length(), 1))\n",
    "    \n",
    "    def length(self):\n",
    "        return self.ode_input.length()\n",
    "    \n",
    "    def dimension(self):\n",
    "        return self.ode_input.dimension()\n",
    "    \n",
    "\n",
    "class OdeSolver:\n",
    "    \n",
    "    def __init__(self, time_info, initial_values):\n",
    "        ode_input = OdeInput(time_info, initial_values)\n",
    "        self.ode_input = ode_input\n",
    "        self.ode_output = OdeOutput(ode_input)\n",
    "        \n",
    "    def equation(self, t, x):\n",
    "        return x\n",
    "    \n",
    "    def solve(self):\n",
    "        dt = self.ode_input.time.dt\n",
    "\n",
    "        # new value is set to the initial data at first\n",
    "        new_value = self.ode_input.initial_values\n",
    "        \n",
    "        # save initial data to output\n",
    "        self.ode_output.results[0] = new_value\n",
    "        self.ode_output.times[0] = self.ode_input.time.time(0)\n",
    "        \n",
    "        for i in range(1, self.ode_input.length()):\n",
    "            # move new values to old values\n",
    "            old_value = new_value\n",
    "            \n",
    "            time_old = self.ode_input.time.time(i - 1)\n",
    "            \n",
    "            k1 = self.equation(time_old, old_value)\n",
    "            k2 = self.equation(time_old + 0.5 * dt, 0.5 * dt * k1 + old_value)\n",
    "            k3 = self.equation(time_old + 0.5 * dt, 0.5 * dt * k2 + old_value)\n",
    "            k4 = self.equation(time_old + 1.0 * dt, 1.0 * dt * k3 + old_value)\n",
    "            \n",
    "            new_value = old_value + (dt / 6.0) * (1.0 * k1 + 2.0 * k2 + 2.0 * k3 + 1.0 * k4)\n",
    "            \n",
    "            self.ode_output.results[i] = new_value\n",
    "            self.ode_output.times[i] = self.ode_input.time.time(i)\n",
    "            \n",
    "    def print_result(self):\n",
    "        print(\"Solved ODE\")\n",
    "        print(\"Initial value: \", self.ode_input.initial_values)\n",
    "        print(\"Output:\")\n",
    "        for i in range(0, self.ode_output.length()):\n",
    "            t = self.ode_input.time.time(i)\n",
    "            print(\"t: \", t, \"y: \", self.ode_output.results[i])\n",
    "\n",
    "    def print_graph(self):\n",
    "        x = self.ode_output.times\n",
    "        for i in range(0, self.ode_output.dimension()):\n",
    "            plot.plot(x, self.ode_output.results[:, i])\n",
    "        plot.show()"
   ]
  },
  {
   "cell_type": "code",
   "execution_count": 25,
   "metadata": {
    "collapsed": false
   },
   "outputs": [],
   "source": [
    "time_info = OdeTime(0.0, 1.0, 100)\n",
    "initial_value = np.array([1.0])\n",
    "solver = OdeSolver(time_info, initial_value)"
   ]
  },
  {
   "cell_type": "code",
   "execution_count": 26,
   "metadata": {
    "collapsed": false
   },
   "outputs": [
    {
     "data": {
      "image/png": "[encoded data removed]",
      "text/plain": [
       "<matplotlib.figure.Figure at 0x7ac9690>"
      ]
     },
     "metadata": {},
     "output_type": "display_data"
    }
   ],
   "source": [
    "solver.solve()\n",
    "solver.print_graph()"
   ]
  },
  {
   "cell_type": "code",
   "execution_count": 44,
   "metadata": {
    "collapsed": true
   },
   "outputs": [],
   "source": [
    "class PredatorPrey(OdeSolver):\n",
    "    \n",
    "    def __init__(self, time_info, initial_values):\n",
    "        OdeSolver.__init__(self, time_info, initial_values)\n",
    "    \n",
    "    def equation(self, t, x):\n",
    "        x1 = 1.5 * x[0] - 0.5 * x[0] * x[1]\n",
    "        x2 = -0.5 * x[1] + 1.0 * x[0] * x[1]\n",
    "        return np.array([x1, x2])"
   ]
  },
  {
   "cell_type": "code",
   "execution_count": 49,
   "metadata": {},
   "outputs": [],
   "source": [
    "time_info2 = OdeTime(0.0, 100.0, 10000)\n",
    "initial_value2 = np.array([15.0, 20.0])\n",
    "solver = PredatorPrey(time_info2, initial_value2)"
   ]
  },
  {
   "cell_type": "code",
   "execution_count": 50,
   "metadata": {},
   "outputs": [
    {
     "data": {
      "image/png": "[encoded data removed]",
      "text/plain": [
       "<matplotlib.figure.Figure at 0x7b5d5f0>"
      ]
     },
     "metadata": {},
     "output_type": "display_data"
    }
   ],
   "source": [
    "solver.solve()\n",
    "solver.print_graph()"
   ]
  },
  {
   "cell_type": "code",
   "execution_count": null,
   "metadata": {},
   "outputs": [],
   "source": [
    ""
   ]
  }
 ],
 "metadata": {
  "kernelspec": {
   "display_name": "Python 3",
   "language": "python",
   "name": "python3"
  },
  "language_info": {
   "codemirror_mode": {
    "name": "ipython",
    "version": 3.0
   },
   "file_extension": ".py",
   "mimetype": "text/x-python",
   "name": "python",
   "nbconvert_exporter": "python",
   "pygments_lexer": "ipython3",
   "version": "3.6.0"
  }
 },
 "nbformat": 4,
 "nbformat_minor": 0
}